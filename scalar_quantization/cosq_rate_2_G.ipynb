{
 "cells": [
  {
   "cell_type": "code",
   "execution_count": 1,
   "metadata": {
    "id": "mhinWk4OEE09"
   },
   "outputs": [],
   "source": [
    "import numpy as np\n",
    "import math\n",
    "import random"
   ]
  },
  {
   "cell_type": "code",
   "execution_count": 2,
   "metadata": {
    "id": "oOjnsv9sEHg7"
   },
   "outputs": [],
   "source": [
    "def generate_binary_array(num_centroids):\n",
    "    # Determine k from num_centroids\n",
    "    k = int(np.log2(num_centroids))\n",
    "\n",
    "    # Generate all possible binary combinations of length k\n",
    "    b = np.array([list(map(int, np.binary_repr(i, width=k))) for i in range(num_centroids)])\n",
    "\n",
    "    return b"
   ]
  },
  {
   "cell_type": "code",
   "execution_count": 3,
   "metadata": {
    "id": "qd6RHwBfEJ1w"
   },
   "outputs": [],
   "source": [
    "def channel_with_memory(num_level, epsilon, delta):\n",
    "    Pr = np.zeros((num_level, num_level))\n",
    "    n = int(np.log2(num_level))\n",
    "\n",
    "    # Transition probability matrix for the binary symmetric channel with memory\n",
    "    Pr_z = np.array([\n",
    "        [(1 - epsilon + delta) / (1 + delta), epsilon / (1 + delta)],\n",
    "        [(1 - epsilon) / (1 + delta), (epsilon + delta) / (1 + delta)]\n",
    "    ])\n",
    "\n",
    "    for x in range(num_level):\n",
    "        for y in range(num_level):\n",
    "            binary_x = np.array([int(bit) for bit in np.binary_repr(x, width=n)])\n",
    "            binary_y = np.array([int(bit) for bit in np.binary_repr(y, width=n)])\n",
    "            binary_z = binary_x ^ binary_y  # XOR operation\n",
    "\n",
    "            if binary_z[0] == 1:\n",
    "                probability = epsilon\n",
    "            else:\n",
    "                probability = 1 - epsilon\n",
    "            for i in range(1, n):\n",
    "                probability *= Pr_z[binary_z[i - 1], binary_z[i]]\n",
    "\n",
    "            Pr[x, y] = probability\n",
    "\n",
    "    return Pr"
   ]
  },
  {
   "cell_type": "code",
   "execution_count": 4,
   "metadata": {
    "id": "48Kql6ivGGxC"
   },
   "outputs": [],
   "source": [
    "# Simulated Annealing Algorithm\n",
    "def simulated_annealing(T_0, alpha, T_f, b, N_fail, N_success, N_cut, k, epsilon, delta, centroids, partitions, num_centroids):\n",
    "    T = T_0\n",
    "    count = 0\n",
    "    count_success = 0\n",
    "    count_fail = 0\n",
    "    b_history = []\n",
    "\n",
    "    prob_points = []\n",
    "\n",
    "    # Loop over each partition\n",
    "    for partition in partitions:\n",
    "        # Calculate the probability of samples falling in this partition\n",
    "        prob = len(partition) / 500000\n",
    "        prob_points.append(prob)\n",
    "\n",
    "    conditional_prob = channel_with_memory(num_centroids, epsilon, delta)\n",
    "\n",
    "    while T > T_f and count_fail < N_fail:\n",
    "\n",
    "        b_prime = random.sample(b, len(b))\n",
    "\n",
    "        delta_Dc = 0\n",
    "\n",
    "        distortion_b = 0\n",
    "        distortion_b_prime = 0\n",
    "\n",
    "        for g in range(0, num_centroids):\n",
    "            for h in range(0, num_centroids):\n",
    "                distortion_b = distortion_b + prob_points[g] * conditional_prob[h,b[g]] * ((centroids[b[g]]-centroids[h])**2)\n",
    "                distortion_b_prime = distortion_b_prime + prob_points[g] * conditional_prob[h, b_prime[g]] * ((centroids[b_prime[g]]-centroids[h])**2)\n",
    "\n",
    "        distortion_b = distortion_b * (1 / k)\n",
    "        distortion_b_prime = distortion_b_prime * (1 / k)\n",
    "        delta_Dc = distortion_b_prime - distortion_b\n",
    "        b_history.append(distortion_b)\n",
    "\n",
    "        if delta_Dc <= 0:\n",
    "            b = b_prime\n",
    "            count_success = count_success + 1\n",
    "            count_fail = 0\n",
    "        else:\n",
    "            rand_num = random.uniform(0, 1)\n",
    "            if rand_num <= math.exp(-delta_Dc / T):\n",
    "                b = b_prime\n",
    "            count_fail = count_fail + 1\n",
    "\n",
    "        if count >= N_cut or count_success >= N_success:\n",
    "            T = alpha * T\n",
    "            count = 0\n",
    "            count_success = 0\n",
    "        count = count + 1\n",
    "\n",
    "    return b"
   ]
  },
  {
   "cell_type": "code",
   "execution_count": 4,
   "metadata": {
    "id": "DDfX7d0nH70T"
   },
   "outputs": [],
   "source": []
  },
  {
   "cell_type": "code",
   "execution_count": 5,
   "metadata": {
    "id": "WV8E3a6uGnwF"
   },
   "outputs": [],
   "source": [
    "# Function to generate normalized source signal that will be used for training\n",
    "def generate_source_signal(distribution, num_samples=500000):\n",
    "\n",
    "    if distribution.lower() == 'laplace':\n",
    "        source = np.random.laplace(loc=0, scale=np.sqrt(1/2), size=num_samples)\n",
    "    else:\n",
    "        source = np.random.normal(loc=0, scale=1, size=num_samples)\n",
    "\n",
    "    # Normalize (zero-mean, unit variance)\n",
    "    source = (source - np.mean(source)) / np.std(source)\n",
    "\n",
    "    return source"
   ]
  },
  {
   "cell_type": "code",
   "execution_count": 6,
   "metadata": {
    "id": "-Dw2kmYXIWGt"
   },
   "outputs": [],
   "source": [
    "def generate_initial_codebook(source, num_centroids):\n",
    "    min_samples = np.min(source)\n",
    "    max_samples = np.max(source)\n",
    "    width = (max_samples - min_samples) / num_centroids\n",
    "    centroids = []\n",
    "    for i in range(num_centroids):\n",
    "        # Calculate the current centroid\n",
    "        centroid_current = min_samples + (i + 0.5) * width\n",
    "        centroids.append(centroid_current)\n",
    "\n",
    "    return centroids"
   ]
  },
  {
   "cell_type": "code",
   "execution_count": 26,
   "metadata": {
    "id": "KwquNIHuEPyt"
   },
   "outputs": [],
   "source": [
    "def cosq_design(source, current_codebook, epsilon, b_obtained, tol=1e-4, max_iter=100):\n",
    "    n_codewords = len(current_codebook)\n",
    "    P_Y_given_X = channel_with_memory(n_codewords, epsilon, 10)\n",
    "\n",
    "    print(P_Y_given_X)\n",
    "\n",
    "    # Initialize codebook (ENSURE IT'S A NUMPY ARRAY)\n",
    "    codebook = np.asarray(current_codebook.copy())  # Convert to NumPy array\n",
    "\n",
    "    signal_power = np.mean(source ** 2)\n",
    "\n",
    "    for iteration in range(max_iter):\n",
    "        # --------------------------------------------------\n",
    "        # Generalized NNC (Nearest Neighbor Condition)\n",
    "        # --------------------------------------------------\n",
    "\n",
    "        # Initialize the partitions\n",
    "        partitions = [[] for _ in range(n_codewords)]\n",
    "\n",
    "        for v in source:\n",
    "          distortions = []\n",
    "\n",
    "          # Iterate over each partition index\n",
    "          for i in range(num_centroids):\n",
    "            # Assuming v is assigned to i\n",
    "            distortion = 0\n",
    "\n",
    "            for j in range(num_centroids):\n",
    "              # Compute the total distortion assuming that v is assigned to partition[i]\n",
    "              distortion += P_Y_given_X[j, b_obtained[i]] * ((v - codebook[j])**2)\n",
    "\n",
    "            distortions.append(distortion)\n",
    "\n",
    "          # To find the minimum i from the distortion list\n",
    "          min_distortion_idx = np.argmin(distortions)\n",
    "          # Add v to that partition\n",
    "          partitions[min_distortion_idx].append(v)\n",
    "\n",
    "        # To visualize the partition of the line\n",
    "        print(len(partitions[0]),len(partitions[1]),len(partitions[2]),len(partitions[3]))\n",
    "        # --------------------------------------------------\n",
    "        # Generalized CC (Centroid Condition)\n",
    "        # --------------------------------------------------\n",
    "        new_codebook = np.zeros_like(codebook)\n",
    "        for i in range(n_codewords):\n",
    "            numerator = 0.0\n",
    "            denominator = 0.0\n",
    "\n",
    "            for j in range(n_codewords):\n",
    "                # If there is no element in that partition, skip that partition set\n",
    "                if len(partitions[j]) == 0:\n",
    "                    continue\n",
    "\n",
    "\n",
    "                prob = P_Y_given_X[i, b_obtained[j]]\n",
    "                sum_v = np.sum(partitions[j])\n",
    "                count = len(partitions[j])\n",
    "\n",
    "                numerator += prob * sum_v\n",
    "                denominator += prob * count\n",
    "\n",
    "            new_codebook[i] = numerator / denominator\n",
    "\n",
    "\n",
    "\n",
    "\n",
    "        print(new_codebook)\n",
    "        # Check convergence\n",
    "        codebook_change = np.max(np.abs(new_codebook - codebook))\n",
    "        codebook = new_codebook.copy()\n",
    "\n",
    "        if codebook_change < tol:\n",
    "            break\n",
    "\n",
    "\n",
    "    # Calculate MSE\n",
    "    mse_q = 0\n",
    "    # For partition i\n",
    "    for i in range(n_codewords):\n",
    "        for x in partitions[i]:\n",
    "            mse_q = mse_q + (x - codebook[i])**2\n",
    "    mse_q = mse_q /len(source)\n",
    "\n",
    "    mse_c = 0\n",
    "    for i in range(n_codewords):\n",
    "        for k in range(n_codewords):\n",
    "\n",
    "            prod = P_Y_given_X[i ,b_obtained[k]]*(codebook[i]-codebook[k])**2\n",
    "            mse_c += prod\n",
    "\n",
    "    mse_c = mse_c / n_codewords\n",
    "\n",
    "    # Final SNR calculation (SDR)\n",
    "    noise_distortion = mse_q + mse_c\n",
    "    snr = 10 * np.log10(signal_power / noise_distortion)\n",
    "\n",
    "    return codebook, partitions, snr"
   ]
  },
  {
   "cell_type": "code",
   "execution_count": 8,
   "metadata": {
    "id": "YDRP3ndXE_-b"
   },
   "outputs": [],
   "source": [
    "#--------------------------------------------------------------\n",
    "# Parameter declarations\n",
    "#--------------------------------------------------------------\n",
    "\n",
    "num_centroids = 4\n",
    "# For SA\n",
    "T_0 = 10\n",
    "alpha = 0.97\n",
    "T_f = 0.00025\n",
    "N_fail = 50000\n",
    "N_success = 5\n",
    "N_cut = 200\n",
    "k = 10\n",
    "# For channel\n",
    "delta = 10\n",
    "\n",
    "initial_distribution = 'Gaussian'\n",
    "\n",
    "sampled_source = generate_source_signal(initial_distribution)\n",
    "\n",
    "codebooks_set = []\n",
    "\n",
    "# Create an empty array b with length num_centroids\n",
    "init_b = [0] * num_centroids\n",
    "\n",
    "# Populate the array with values from 0 to num_centroids - 1\n",
    "for i in range(num_centroids):\n",
    "    init_b[i] = i\n"
   ]
  },
  {
   "cell_type": "code",
   "execution_count": 27,
   "metadata": {
    "colab": {
     "base_uri": "https://localhost:8080/"
    },
    "id": "bJR9izhGFQ9-",
    "outputId": "879814f5-26c0-4f8a-de99-78eb53d738df"
   },
   "outputs": [
    {
     "name": "stdout",
     "output_type": "stream",
     "text": [
      "[np.float64(-3.613810675414047), np.float64(-1.1810278979727529), np.float64(1.2517548794685407), np.float64(3.6845376569098356)]\n",
      "[[1.00000000e+00 9.09090909e-13 9.09090909e-13 9.09090909e-12]\n",
      " [9.09090909e-13 1.00000000e+00 9.09090909e-12 9.09090909e-13]\n",
      " [9.09090909e-13 9.09090909e-12 1.00000000e+00 9.09090909e-13]\n",
      " [9.09090909e-12 9.09090909e-13 9.09090909e-13 1.00000000e+00]]\n",
      "4180 253070 239400 3350\n",
      "[-2.72768999 -0.74292448  0.79391889  2.79088399]\n",
      "20601 234680 226399 18320\n",
      "[-2.14441296 -0.6617371   0.7040228   2.18796158]\n",
      "39911 214528 208548 37013\n",
      "[-1.85906542 -0.58405395  0.62073279  1.89232174]\n",
      "55231 198666 193834 52269\n",
      "[-1.70632078 -0.52984394  0.56185061  1.73330327]\n",
      "65716 187706 183616 62962\n",
      "[-1.62054106 -0.49554335  0.52322996  1.64287259]\n",
      "72445 180549 177159 69847\n",
      "[-1.57102507 -0.47469331  0.4990111   1.59082001]\n",
      "76576 176085 173162 74177\n",
      "[-1.54238422 -0.46235073  0.48395587  1.56005064]\n",
      "79049 173346 170734 76871\n",
      "[-1.52580934 -0.45522819  0.47454966  1.5415947 ]\n",
      "80468 171683 169253 78596\n",
      "[-1.51647453 -0.45141636  0.46837322  1.53003479]\n",
      "81301 170611 168427 79661\n",
      "[-1.5110519  -0.44944532  0.46433725  1.52299639]\n",
      "81775 169938 167957 80330\n",
      "[-1.50798589 -0.44849523  0.46167736  1.51861053]\n",
      "82029 169522 167686 80763\n",
      "[-1.50634866 -0.44813528  0.45986888  1.51578681]\n",
      "82151 169243 167562 81044\n",
      "[-1.50556367 -0.44817499  0.45855653  1.51396021]\n",
      "82205 169041 167509 81245\n",
      "[-1.5052165  -0.44840327  0.45752215  1.51265656]\n",
      "82210 168918 167465 81407\n",
      "[-1.50518437 -0.44870428  0.45669227  1.51160792]\n",
      "82196 168815 167476 81513\n",
      "[-1.50527435 -0.44906203  0.45604205  1.51092266]\n",
      "82164 168748 167482 81606\n",
      "[-1.50548007 -0.44942782  0.45548165  1.51032195]\n",
      "82126 168693 167511 81670\n",
      "[-1.50572447 -0.44979629  0.45502897  1.50990885]\n",
      "82093 168620 167571 81716\n",
      "[-1.50593677 -0.45018412  0.45459807  1.50961207]\n",
      "82056 168569 167624 81751\n",
      "[-1.50617486 -0.45053622  0.4542505   1.5093863 ]\n",
      "82013 168547 167640 81800\n",
      "[-1.50645168 -0.45084537  0.45392091  1.50907036]\n",
      "81981 168514 167669 81836\n",
      "[-1.50665775 -0.45112013  0.45363228  1.50883836]\n",
      "81952 168491 167691 81866\n",
      "[-1.50684454 -0.4513506   0.45339763  1.50864506]\n",
      "81922 168477 167709 81892\n",
      "[-1.50703785 -0.45156273  0.45319717  1.50847758]\n",
      "81899 168456 167733 81912\n",
      "[-1.50718608 -0.45175296  0.4530156   1.50834877]\n",
      "81871 168446 167750 81933\n",
      "[-1.50736659 -0.45194274  0.45284708  1.50821355]\n",
      "81848 168431 167771 81950\n",
      "[-1.50751492 -0.45211688  0.45269115  1.5081041 ]\n",
      "81824 168414 167797 81965\n",
      "[-1.50766972 -0.45230222  0.45253345  1.50800754]\n",
      "81800 168407 167803 81990\n",
      "[-1.50782456 -0.45246071  0.45237125  1.50784664]\n",
      "81784 168385 167816 82015\n",
      "[-1.50792781 -0.45261296  0.4521902   1.5076858 ]\n",
      "81773 168367 167821 82039\n",
      "[-1.50799879 -0.45272537  0.45203655  1.50753144]\n",
      "81766 168356 167828 82050\n",
      "[-1.50804397 -0.45279568  0.45195344  1.5074607 ]\n",
      "9.296174526471983\n"
     ]
    }
   ],
   "source": [
    "# COSQ for noiseless. Works for a preset low noise epsilon\n",
    "init_codebook = generate_initial_codebook(sampled_source, num_centroids)\n",
    "codebooks_set.append(np.array(init_codebook))\n",
    "\n",
    "print(init_codebook)\n",
    "noiseless_codebook, noiseless_partition, noiseless_snr = cosq_design(sampled_source, codebooks_set[-1],  1e-11, init_b)\n",
    "print(noiseless_snr)\n",
    "codebooks_set.append(np.array(noiseless_codebook))"
   ]
  },
  {
   "cell_type": "code",
   "execution_count": 28,
   "metadata": {
    "colab": {
     "base_uri": "https://localhost:8080/"
    },
    "id": "Dfu0wJzMOGj4",
    "outputId": "01eb8fac-312e-43ee-d1cf-960931080a31"
   },
   "outputs": [
    {
     "name": "stdout",
     "output_type": "stream",
     "text": [
      "[0, 1, 2, 3]\n"
     ]
    }
   ],
   "source": [
    "# Once we obtain the noiseless_codebook, we perform SA algorithm to obtain the shuffling before we train with noisy channels\n",
    "b_from_sa = simulated_annealing(T_0, alpha, T_f, init_b, N_fail, N_success, N_cut, k, 0.005, delta, noiseless_codebook, noiseless_partition, num_centroids)\n",
    "\n",
    "print(b_from_sa)"
   ]
  },
  {
   "cell_type": "code",
   "execution_count": 29,
   "metadata": {
    "colab": {
     "base_uri": "https://localhost:8080/"
    },
    "id": "cxwQQagdYn2T",
    "outputId": "01d08195-e11d-425c-c27a-6db725da6c9b"
   },
   "outputs": [
    {
     "name": "stdout",
     "output_type": "stream",
     "text": [
      "[[9.94547727e-01 4.52272727e-04 4.52272727e-04 4.54772727e-03]\n",
      " [4.52272727e-04 9.94547727e-01 4.54772727e-03 4.52272727e-04]\n",
      " [4.52272727e-04 4.54772727e-03 9.94547727e-01 4.52272727e-04]\n",
      " [4.54772727e-03 4.52272727e-04 4.52272727e-04 9.94547727e-01]]\n",
      "80733 169374 168848 81045\n",
      "[-1.49806688 -0.45174662  0.45072447  1.49738925]\n",
      "81426 168665 168158 81751\n",
      "[-1.49364798 -0.44963177  0.44847503  1.49290901]\n",
      "81847 168229 167738 82186\n",
      "[-1.490977   -0.44836324  0.4470779   1.49016327]\n",
      "82099 167960 167508 82433\n",
      "[-1.48938498 -0.44762535  0.44626348  1.48860744]\n",
      "82256 167795 167366 82583\n",
      "[-1.48839544 -0.44715898  0.44577563  1.48766349]\n",
      "82336 167711 167263 82690\n",
      "[-1.48788807 -0.44692227  0.44543109  1.48699495]\n",
      "82389 167650 167217 82744\n",
      "[-1.48755419 -0.446779    0.44524189  1.48665629]\n",
      "82420 167614 167188 82778\n",
      "[-1.48735869 -0.44669614  0.4451228   1.48644341]\n",
      "82429 167600 167174 82797\n",
      "[-1.48730081 -0.44668176  0.44505014  1.48632549]\n",
      "82435 167590 167170 82805\n",
      "[-1.48726281 -0.44667377  0.44501462  1.48627557]\n",
      "8.483418945107132\n"
     ]
    }
   ],
   "source": [
    "# Starting with noiseless codebook and b obtained from SA algorithm, run the training for epsilon = 0.005\n",
    "codebook_1, partition_1, snr_1 = cosq_design(sampled_source, codebooks_set[-1], 0.005, b_from_sa)\n",
    "print(snr_1)\n",
    "codebooks_set.append(np.array(codebook_1))"
   ]
  },
  {
   "cell_type": "code",
   "execution_count": 30,
   "metadata": {
    "colab": {
     "base_uri": "https://localhost:8080/"
    },
    "id": "d-ehykLDdH5v",
    "outputId": "d9b3b178-ff83-4051-a773-512f7909bbb4"
   },
   "outputs": [
    {
     "name": "stdout",
     "output_type": "stream",
     "text": [
      "[[9.891e-01 9.000e-04 9.000e-04 9.100e-03]\n",
      " [9.000e-04 9.891e-01 9.100e-03 9.000e-04]\n",
      " [9.000e-04 9.100e-03 9.891e-01 9.000e-04]\n",
      " [9.100e-03 9.000e-04 9.000e-04 9.891e-01]]\n",
      "81404 168619 168176 81801\n",
      "[-1.47722013 -0.44556122  0.44379723  1.47618421]\n",
      "82124 167894 167486 82496\n",
      "[-1.47275327 -0.44335425  0.44163781  1.47187708]\n",
      "82556 167465 167038 82941\n",
      "[-1.47008036 -0.44201882  0.44027188  1.46913984]\n",
      "82815 167205 166755 83225\n",
      "[-1.46847864 -0.44122748  0.439392    1.46740338]\n",
      "82963 167047 166592 83398\n",
      "[-1.4675625  -0.44080066  0.43883137  1.46635011]\n",
      "83046 166954 166511 83489\n",
      "[-1.4670506  -0.44057235  0.43852469  1.46579544]\n",
      "83083 166912 166453 83552\n",
      "[-1.46681713 -0.44047356  0.43831599  1.46541655]\n",
      "83101 166882 166423 83594\n",
      "[-1.46670084 -0.44045101  0.43815396  1.4651657 ]\n",
      "83113 166858 166404 83625\n",
      "[-1.46662261 -0.44044651  0.43802616  1.46498091]\n",
      "83115 166849 166389 83647\n",
      "[-1.46660554 -0.44045984  0.43793893  1.46485136]\n",
      "83116 166836 166395 83653\n",
      "[-1.4665982  -0.4404881   0.43788905  1.46481593]\n",
      "7.829142670666772\n"
     ]
    }
   ],
   "source": [
    "codebook_2, partition_2, snr_2 = cosq_design(sampled_source, codebooks_set[-1], 0.01, b_from_sa)\n",
    "print(snr_2)\n",
    "codebooks_set.append(np.array(codebook_2))"
   ]
  },
  {
   "cell_type": "code",
   "execution_count": 31,
   "metadata": {
    "colab": {
     "base_uri": "https://localhost:8080/"
    },
    "id": "1RrDKyiMYtSM",
    "outputId": "05e3d818-65ff-49ca-f124-39c1437a5374"
   },
   "outputs": [
    {
     "name": "stdout",
     "output_type": "stream",
     "text": [
      "[[0.94568182 0.00431818 0.00431818 0.04568182]\n",
      " [0.00431818 0.94568182 0.04568182 0.00431818]\n",
      " [0.00431818 0.04568182 0.94568182 0.00431818]\n",
      " [0.04568182 0.00431818 0.00431818 0.94568182]]\n",
      "74368 175577 175144 74911\n",
      "[-1.38472239 -0.43141853  0.42869969  1.38426422]\n",
      "80320 169616 169249 80815\n",
      "[-1.35205868 -0.41411561  0.41148649  1.35178216]\n",
      "83738 166206 165827 84229\n",
      "[-1.33392507 -0.40431635  0.40170532  1.33368518]\n",
      "85596 164348 163864 86192\n",
      "[-1.32412718 -0.39908656  0.39608267  1.32359577]\n",
      "86634 163268 162830 87268\n",
      "[-1.31872797 -0.39626623  0.39292927  1.31810198]\n",
      "87236 162646 162228 87890\n",
      "[-1.31561799 -0.3946242   0.39112133  1.31494182]\n",
      "87552 162309 161891 88248\n",
      "[-1.31395817 -0.39379685  0.3900512   1.31316077]\n",
      "87737 162105 161695 88463\n",
      "[-1.31298236 -0.39332947  0.38939338  1.31209822]\n",
      "87834 161987 161613 88566\n",
      "[-1.31248147 -0.39310531  0.38905521  1.31158096]\n",
      "87886 161924 161571 88619\n",
      "[-1.31221543 -0.39298385  0.38888158  1.31131268]\n",
      "87918 161884 161549 88649\n",
      "[-1.3120545  -0.39291091  0.38878031  1.31115818]\n",
      "87926 161872 161534 88668\n",
      "[-1.31200224 -0.39290094  0.38871435  1.31107309]\n",
      "5.0144948332146635\n"
     ]
    }
   ],
   "source": [
    "codebook_3, partition_3, snr_3 = cosq_design(sampled_source, codebooks_set[-1], 0.05, b_from_sa)\n",
    "print(snr_3)\n",
    "codebooks_set.append(np.array(codebook_3))\n"
   ]
  },
  {
   "cell_type": "code",
   "execution_count": 32,
   "metadata": {
    "colab": {
     "base_uri": "https://localhost:8080/"
    },
    "id": "VJYglZdYeMmu",
    "outputId": "0d74e2da-053f-4aa3-9397-a10047685901"
   },
   "outputs": [
    {
     "name": "stdout",
     "output_type": "stream",
     "text": [
      "[[0.89181818 0.00818182 0.00818182 0.09181818]\n",
      " [0.00818182 0.89181818 0.09181818 0.00818182]\n",
      " [0.00818182 0.09181818 0.89181818 0.00818182]\n",
      " [0.09181818 0.00818182 0.00818182 0.89181818]]\n",
      "75556 174235 173963 76246\n",
      "[-1.21171192 -0.38265707  0.37864361  1.21307794]\n",
      "83679 166136 165782 84403\n",
      "[-1.17598531 -0.36151339  0.35741127  1.17710534]\n",
      "88001 161801 161385 88813\n",
      "[-1.15744723 -0.35060094  0.3460662   1.15846359]\n",
      "90341 159425 159081 91153\n",
      "[-1.1476829  -0.34477331  0.34009258  1.14864692]\n",
      "91558 158195 157801 92446\n",
      "[-1.14251232 -0.34179861  0.33677124  1.14341333]\n",
      "92215 157502 157153 93130\n",
      "[-1.13975977 -0.34023927  0.33497784  1.14063288]\n",
      "92543 157150 156781 93526\n",
      "[-1.13829066 -0.33950825  0.333901    1.13912181]\n",
      "92722 156940 156583 93755\n",
      "[-1.13746707 -0.33914906  0.33324211  1.13826818]\n",
      "92849 156782 156481 93888\n",
      "[-1.13693675 -0.33889036  0.33285233  1.13773142]\n",
      "92898 156721 156417 93964\n",
      "[-1.13668783 -0.33880688  0.33262396  1.13746708]\n",
      "92929 156677 156393 94001\n",
      "[-1.13655036 -0.3387561   0.33250516  1.13732559]\n",
      "92947 156653 156372 94028\n",
      "[-1.13646063 -0.33872758  0.33242145  1.13723061]\n",
      "3.5839692437165476\n"
     ]
    }
   ],
   "source": [
    "codebook_4, partition_4, snr_4 = cosq_design(sampled_source, codebooks_set[-1], 0.1, b_from_sa)\n",
    "print(snr_4)\n",
    "codebooks_set.append(np.array(codebook_4))"
   ]
  },
  {
   "cell_type": "code",
   "execution_count": 33,
   "metadata": {
    "colab": {
     "base_uri": "https://localhost:8080/"
    },
    "id": "n-WOqwHb5Uzy",
    "outputId": "77c2dfb5-df9c-4216-ecd9-52f9c501c02d"
   },
   "outputs": [
    {
     "name": "stdout",
     "output_type": "stream",
     "text": [
      "[[0.94568182 0.00431818 0.00431818 0.04568182]\n",
      " [0.00431818 0.94568182 0.04568182 0.00431818]\n",
      " [0.00431818 0.04568182 0.94568182 0.00431818]\n",
      " [0.04568182 0.00431818 0.00431818 0.94568182]]\n",
      "105065 144531 144611 105793\n",
      "[-1.2293535  -0.3464751   0.34125711  1.22862184]\n",
      "97370 152326 152112 98192\n",
      "[-1.26529187 -0.36705102  0.36203596  1.26422899]\n",
      "93159 156558 156296 93987\n",
      "[-1.28572838 -0.37855255  0.37366138  1.28459614]\n",
      "90897 158834 158634 91635\n",
      "[-1.29702648 -0.3847536   0.38025858  1.29613974]\n",
      "89577 160191 159920 90312\n",
      "[-1.30364797 -0.38834692  0.38403627  1.30275849]\n",
      "88876 160905 160620 89599\n",
      "[-1.30719933 -0.39027194  0.38606723  1.30633808]\n",
      "88472 161316 161048 89164\n",
      "[-1.30927832 -0.39137642  0.38731464  1.30850554]\n",
      "88243 161565 161252 88940\n",
      "[-1.3104361  -0.39197571  0.38798622  1.3096459 ]\n",
      "88103 161714 161365 88818\n",
      "[-1.31112936 -0.39235432  0.38834291  1.31028347]\n",
      "88032 161783 161433 88752\n",
      "[-1.3114855  -0.3925593   0.38852254  1.31062367]\n",
      "87995 161817 161466 88722\n",
      "[-1.31166653 -0.39267191  0.38859804  1.31078326]\n",
      "87975 161832 161492 88701\n",
      "[-1.31176941 -0.39273854  0.38864656  1.31088886]\n",
      "87965 161840 161505 88690\n",
      "[-1.31182138 -0.39277059  0.38867349  1.31094369]\n",
      "5.015090384956449\n"
     ]
    }
   ],
   "source": [
    "codebook_5, partition_5, snr_5 = cosq_design(sampled_source, codebooks_set[-1], 0.05, b_from_sa)\n",
    "print(snr_5)\n",
    "codebooks_set.append(np.array(codebook_5))"
   ]
  },
  {
   "cell_type": "code",
   "execution_count": 34,
   "metadata": {
    "colab": {
     "base_uri": "https://localhost:8080/"
    },
    "id": "JAvyDR4R59nR",
    "outputId": "2923f838-1f46-42da-886c-5b971d2984df"
   },
   "outputs": [
    {
     "name": "stdout",
     "output_type": "stream",
     "text": [
      "[[9.891e-01 9.000e-04 9.000e-04 9.100e-03]\n",
      " [9.000e-04 9.891e-01 9.100e-03 9.000e-04]\n",
      " [9.000e-04 9.100e-03 9.891e-01 9.000e-04]\n",
      " [9.100e-03 9.000e-04 9.000e-04 9.891e-01]]\n",
      "96520 153283 152996 97201\n",
      "[-1.38851735 -0.40068629  0.39668363  1.38644145]\n",
      "90768 159048 158730 91454\n",
      "[-1.42100794 -0.41769541  0.41382482  1.4187012 ]\n",
      "87461 162369 161961 88209\n",
      "[-1.44033397 -0.42759974  0.42364358  1.43756474]\n",
      "85548 164272 163832 86348\n",
      "[-1.45175189 -0.43342236  0.42927428  1.44860369]\n",
      "84487 165307 164990 85216\n",
      "[-1.45818246 -0.43671534  0.43267107  1.45537775]\n",
      "83855 165957 165606 84582\n",
      "[-1.46203034 -0.43859908  0.43465954  1.45921025]\n",
      "83514 166307 165977 84202\n",
      "[-1.46412293 -0.43961695  0.4358517   1.46150745]\n",
      "83324 166515 166167 83994\n",
      "[-1.46529057 -0.4401514   0.43653856  1.46276857]\n",
      "83212 166642 166276 83870\n",
      "[-1.4659801  -0.44045517  0.43695941  1.46352108]\n",
      "83147 166715 166345 83793\n",
      "[-1.4663818  -0.44063299  0.43721775  1.46398767]\n",
      "83119 166757 166363 83761\n",
      "[-1.46655462 -0.44068244  0.43735271  1.46418188]\n",
      "83104 166778 166380 83738\n",
      "[-1.46664862 -0.4407124   0.43743956  1.46432027]\n",
      "83096 166791 166396 83717\n",
      "[-1.46670086 -0.44072312  0.43751802  1.46444531]\n",
      "83092 166799 166404 83705\n",
      "[-1.46672733 -0.44072451  0.43756585  1.46451663]\n",
      "7.829280983364717\n"
     ]
    }
   ],
   "source": [
    "codebook_6, partition_6, snr_6 = cosq_design(sampled_source, codebooks_set[-1], 0.01, b_from_sa)\n",
    "print(snr_6)\n",
    "codebooks_set.append(np.array(codebook_6))"
   ]
  },
  {
   "cell_type": "code",
   "execution_count": 35,
   "metadata": {
    "colab": {
     "base_uri": "https://localhost:8080/"
    },
    "id": "TQXZEqth6EWU",
    "outputId": "82ed4003-0cf1-4b46-da04-3e9346dcc2b4"
   },
   "outputs": [
    {
     "name": "stdout",
     "output_type": "stream",
     "text": [
      "[[9.94547727e-01 4.52272727e-04 4.52272727e-04 4.54772727e-03]\n",
      " [4.52272727e-04 9.94547727e-01 4.54772727e-03 4.52272727e-04]\n",
      " [4.52272727e-04 4.54772727e-03 9.94547727e-01 4.52272727e-04]\n",
      " [4.54772727e-03 4.52272727e-04 4.52272727e-04 9.94547727e-01]]\n",
      "84041 165853 165432 84674\n",
      "[-1.47719353 -0.44206212  0.43886111  1.47469017]\n",
      "83349 166542 166126 83983\n",
      "[-1.48150202 -0.44420596  0.44099262  1.47896375]\n",
      "82965 166926 166530 83579\n",
      "[-1.48390592 -0.44539301  0.44224671  1.48147113]\n",
      "82738 167157 166775 83330\n",
      "[-1.48533164 -0.44608477  0.44303131  1.48301987]\n",
      "82610 167289 166916 83185\n",
      "[-1.48613742 -0.4464703   0.44349306  1.48392278]\n",
      "82532 167372 166996 83100\n",
      "[-1.48662848 -0.44669869  0.44377075  1.48445296]\n",
      "82485 167426 167054 83035\n",
      "[-1.48692624 -0.44682534  0.44399198  1.48485713]\n",
      "82452 167474 167080 82994\n",
      "[-1.48713482 -0.44688787  0.44415936  1.48511264]\n",
      "82432 167504 167100 82964\n",
      "[-1.4872619  -0.44692319  0.44427941  1.48529917]\n",
      "82422 167522 167117 82939\n",
      "[-1.48732668 -0.4469326   0.44437881  1.48545385]\n",
      "82421 167528 167136 82915\n",
      "[-1.48733578 -0.44692173  0.44446745  1.48560134]\n",
      "82421 167538 167148 82893\n",
      "[-1.48733847 -0.44689462  0.44456304  1.48573647]\n",
      "82421 167549 167152 82878\n",
      "[-1.4873403  -0.44686512  0.44463927  1.48582862]\n",
      "8.48359477456193\n"
     ]
    }
   ],
   "source": [
    "codebook_7, partition_7, snr_7 = cosq_design(sampled_source, codebooks_set[-1], 0.005, b_from_sa)\n",
    "print(snr_7)\n",
    "codebooks_set.append(np.array(codebook_7))"
   ]
  }
 ],
 "metadata": {
  "colab": {
   "provenance": []
  },
  "kernelspec": {
   "display_name": "Python 3 (ipykernel)",
   "language": "python",
   "name": "python3"
  },
  "language_info": {
   "codemirror_mode": {
    "name": "ipython",
    "version": 3
   },
   "file_extension": ".py",
   "mimetype": "text/x-python",
   "name": "python",
   "nbconvert_exporter": "python",
   "pygments_lexer": "ipython3",
   "version": "3.8.19"
  }
 },
 "nbformat": 4,
 "nbformat_minor": 1
}
